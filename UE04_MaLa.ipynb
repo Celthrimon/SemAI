{
  "nbformat": 4,
  "nbformat_minor": 0,
  "metadata": {
    "colab": {
      "provenance": []
    },
    "kernelspec": {
      "name": "python3",
      "display_name": "Python 3"
    },
    "language_info": {
      "name": "python"
    }
  },
  "cells": [
    {
      "cell_type": "markdown",
      "source": [
        "Course Instructor: Bernd Neumayr, JKU\n",
        "\n",
        "# UE04- SPARQL Updata and RDF Datasets\n",
        "\n",
        "Complete the **8 tasks (1 point per task)** in the `3. SPARQL Update` sheet of `SemAI.jar` first and then transfer them to this notebook.\n",
        "\n",
        "For each task include:\n",
        "- A headline including the task number\n",
        "- The task description \n",
        "- Your solution in executable form: your solutions for SemAI.jar will make use of the default grap. In this notebook you have to transform your solutions according to the workaround exemplified in V04_SPARQL_Update.ipynb\n",
        "- After executing the update request, print a serizalization of the dataset in TriG format.  \n",
        "\n",
        "**Task 9 (2 points)**  is to develop a nice visualization of RDF datasets using `visualize_graph_pyvis` from UE02 as a starting point. The requirements are as follows:\n",
        "- Each named graph must be represented as an independent graph. This means, for example, that :Jane in :JanesGraph is a different node than :Jane in :BillsGraph. There are no edges between nodes in different graphs.\n",
        "- It is not strictly necessary to draw a box around each named graph, as seen in the slides. The different named graphs should simply be visually distinguishable and not overlap.\n",
        "- If not all nodes within a named graph are connected, make sure in the visualization that the named graph still forms a coherent visual unit in some way."
      ],
      "metadata": {
        "id": "HnpijZy2D1Hd"
      }
    },
    {
      "cell_type": "markdown",
      "source": [
        "## Preperations"
      ],
      "metadata": {
        "id": "QOCoY9pc8f2_"
      }
    },
    {
      "cell_type": "code",
      "source": [
        "!pip install -q rdflib"
      ],
      "metadata": {
        "id": "VWq5U0TD8iRI"
      },
      "execution_count": null,
      "outputs": []
    },
    {
      "cell_type": "markdown",
      "source": [
        "### Imports and functions\n",
        "We are re-using the sparql_select function."
      ],
      "metadata": {
        "id": "-txFUIBL8l_X"
      }
    },
    {
      "cell_type": "code",
      "source": [
        "# Imports\n",
        "import pandas as pd\n",
        "import rdflib\n",
        "from rdflib import Graph, Literal, RDF, URIRef, BNode, Namespace\n",
        "\n",
        "\n",
        "# Convenient Functions\n",
        "def sparql_select(graph,query,use_prefixes=True):\n",
        "  results = graph.query(query)          # execute the query against the graph, resulting in a rdflib.plugins.sparql.processor.SPARQLResult\n",
        "  rows = []                             # a list of dictionaries, as intermediate format to construct the pandas DataFrame\n",
        "  for result in results:                # iterate over the result set of the query, a result is an instance of rdflib.query.ResultRow\n",
        "    row = {}                            #     create a dictionary to hold a single row of the result\n",
        "    for var in results.vars:            #     iterate over the variables of the SPARQLResult to add a dictionary entry for each variable\n",
        "      if (isinstance(result[var],URIRef) and use_prefixes):\n",
        "        row[var] = result[var].n3(graph.namespace_manager)   # use namespace prefixes to shorten URIs\n",
        "      else:\n",
        "        row[var] = result[var]                  \n",
        "    rows.append(row)                    #     add the dictionary (row) to the list \n",
        "  return pd.DataFrame(rows,columns=results.vars)        \n",
        "                                        # return a pandas DataFrame constructed from the list of dictionaries, with the variables from the result set as columns      \n"
      ],
      "metadata": {
        "id": "5Pms7OZP8r47"
      },
      "execution_count": null,
      "outputs": []
    },
    {
      "cell_type": "markdown",
      "source": [
        "## Task 1"
      ],
      "metadata": {
        "id": "ZvcdKFaO7-l9"
      }
    },
    {
      "cell_type": "code",
      "source": [
        "ds = rdflib.Dataset()\n",
        "ds.parse(format=\"trig\", data=\"\"\"\n",
        "@prefix rdf: <http://www.w3.org/1999/02/22-rdf-syntax-ns#> .\n",
        "@prefix : <http://example.org/> .\n",
        "\n",
        "\"\"\")\n",
        "\n",
        "ds.update(\"\"\"\n",
        "insert data {\n",
        "  graph :main {\n",
        "    :G1 :author :Mary .\n",
        "    :G2 :author :Peter .\n",
        "  }\n",
        "}\n",
        "\"\"\")\n",
        "\n",
        "print(ds.serialize(format=\"trig\"))"
      ],
      "metadata": {
        "id": "KRQN0p_K79Zc",
        "colab": {
          "base_uri": "https://localhost:8080/"
        },
        "outputId": "7d506f81-68d2-4c5e-c810-4c0aa4483668"
      },
      "execution_count": null,
      "outputs": [
        {
          "output_type": "stream",
          "name": "stdout",
          "text": [
            "@prefix : <http://example.org/> .\n",
            "\n",
            ":main {\n",
            "    :G1 :author :Mary .\n",
            "\n",
            "    :G2 :author :Peter .\n",
            "}\n",
            "\n",
            "\n"
          ]
        }
      ]
    },
    {
      "cell_type": "markdown",
      "source": [
        "## Task 2"
      ],
      "metadata": {
        "id": "2LsJg_xU-tJh"
      }
    },
    {
      "cell_type": "code",
      "source": [
        "ds.update(\"\"\"\n",
        "insert data {\n",
        "  graph :G1 {\n",
        "    :Mary :knows :Peter, :John, :Mary\n",
        "  }.\n",
        "  graph :G2 {\n",
        "    :Peter :knows :Mary.\n",
        "    :John :knows :Mary.\n",
        "  }\n",
        "}\n",
        "\"\"\")\n",
        "\n",
        "print(ds.serialize(format=\"trig\"))"
      ],
      "metadata": {
        "id": "ywhRGQTY-vrK",
        "colab": {
          "base_uri": "https://localhost:8080/"
        },
        "outputId": "8e1939e6-a535-4d90-ed56-7eb408b8e75b"
      },
      "execution_count": null,
      "outputs": [
        {
          "output_type": "stream",
          "name": "stdout",
          "text": [
            "@prefix : <http://example.org/> .\n",
            "\n",
            ":main {\n",
            "    :G1 :author :Mary .\n",
            "\n",
            "    :G2 :author :Peter .\n",
            "}\n",
            "\n",
            ":G1 {\n",
            "    :Mary :knows :John,\n",
            "            :Mary,\n",
            "            :Peter .\n",
            "}\n",
            "\n",
            ":G2 {\n",
            "    :John :knows :Mary .\n",
            "\n",
            "    :Peter :knows :Mary .\n",
            "}\n",
            "\n",
            "\n"
          ]
        }
      ]
    },
    {
      "cell_type": "markdown",
      "source": [
        "## Task 3"
      ],
      "metadata": {
        "id": "y7fHjrIV-67g"
      }
    },
    {
      "cell_type": "code",
      "source": [
        "ds.update(\"\"\"\n",
        "insert{\n",
        "  graph :main {\n",
        "    ?p :knownBy ?f .\n",
        "  }\n",
        "}\n",
        "where {\n",
        "  graph :G2 {\n",
        "    ?f :knows ?p .\n",
        "  }\n",
        "}\n",
        "\"\"\")\n",
        "\n",
        "print(ds.serialize(format=\"trig\"))"
      ],
      "metadata": {
        "id": "p4swVtEJ-8D_",
        "colab": {
          "base_uri": "https://localhost:8080/"
        },
        "outputId": "b99344e6-f685-4142-8474-4b4c72734d27"
      },
      "execution_count": null,
      "outputs": [
        {
          "output_type": "stream",
          "name": "stdout",
          "text": [
            "@prefix : <http://example.org/> .\n",
            "\n",
            ":main {\n",
            "    :G1 :author :Mary .\n",
            "\n",
            "    :G2 :author :Peter .\n",
            "\n",
            "    :Mary :knownBy :John,\n",
            "            :Peter .\n",
            "}\n",
            "\n",
            ":G1 {\n",
            "    :Mary :knows :John,\n",
            "            :Mary,\n",
            "            :Peter .\n",
            "}\n",
            "\n",
            ":G2 {\n",
            "    :John :knows :Mary .\n",
            "\n",
            "    :Peter :knows :Mary .\n",
            "}\n",
            "\n",
            "\n"
          ]
        }
      ]
    },
    {
      "cell_type": "markdown",
      "source": [
        "## Task 4"
      ],
      "metadata": {
        "id": "ynmSeuCAA87k"
      }
    },
    {
      "cell_type": "code",
      "source": [
        "ds.update(\"\"\"\n",
        "delete where {graph :main {?p :knownBy ?f}}\n",
        "\"\"\")\n",
        "\n",
        "print(ds.serialize(format=\"trig\"))"
      ],
      "metadata": {
        "id": "3kHr4q8UA-hC",
        "colab": {
          "base_uri": "https://localhost:8080/"
        },
        "outputId": "96a246cd-f0c8-4486-f994-4b82dffb7a5f"
      },
      "execution_count": null,
      "outputs": [
        {
          "output_type": "stream",
          "name": "stdout",
          "text": [
            "@prefix : <http://example.org/> .\n",
            "\n",
            ":main {\n",
            "    :G1 :author :Mary .\n",
            "\n",
            "    :G2 :author :Peter .\n",
            "}\n",
            "\n",
            ":G1 {\n",
            "    :Mary :knows :John,\n",
            "            :Mary,\n",
            "            :Peter .\n",
            "}\n",
            "\n",
            ":G2 {\n",
            "    :John :knows :Mary .\n",
            "\n",
            "    :Peter :knows :Mary .\n",
            "}\n",
            "\n",
            "\n"
          ]
        }
      ]
    },
    {
      "cell_type": "markdown",
      "source": [
        "## Task 5"
      ],
      "metadata": {
        "id": "VRkc33MnBfub"
      }
    },
    {
      "cell_type": "code",
      "source": [
        "ds.update(\"\"\"\n",
        "insert {\n",
        "  graph :main {\n",
        "    ?g :knowsCount ?cnt.\n",
        "  }\n",
        "} \n",
        "where {\n",
        "  select ?g (count(?f) as ?cnt)\n",
        "  where {\n",
        "    graph ?g{\n",
        "      ?p :knows ?f\n",
        "    }\n",
        "  }group by ?g\n",
        "}\n",
        "\"\"\")\n",
        "\n",
        "print(ds.serialize(format=\"trig\"))"
      ],
      "metadata": {
        "id": "0qOk45DkBhVh",
        "colab": {
          "base_uri": "https://localhost:8080/"
        },
        "outputId": "6206b0de-5c90-4d68-c464-3bb7dca95636"
      },
      "execution_count": null,
      "outputs": [
        {
          "output_type": "stream",
          "name": "stdout",
          "text": [
            "@prefix : <http://example.org/> .\n",
            "@prefix xsd: <http://www.w3.org/2001/XMLSchema#> .\n",
            "\n",
            ":main {\n",
            "    :G1 :author :Mary ;\n",
            "        :knowsCount 3 .\n",
            "\n",
            "    :G2 :author :Peter ;\n",
            "        :knowsCount 2 .\n",
            "}\n",
            "\n",
            ":G1 {\n",
            "    :Mary :knows :John,\n",
            "            :Mary,\n",
            "            :Peter .\n",
            "}\n",
            "\n",
            ":G2 {\n",
            "    :John :knows :Mary .\n",
            "\n",
            "    :Peter :knows :Mary .\n",
            "}\n",
            "\n",
            "\n"
          ]
        }
      ]
    },
    {
      "cell_type": "markdown",
      "source": [
        "## Task 6"
      ],
      "metadata": {
        "id": "vwLmbeuTB3U1"
      }
    },
    {
      "cell_type": "code",
      "source": [
        "ds.update(\"\"\"\n",
        "insert{\n",
        "  graph :main {\n",
        "    :ds :graphCount ?cnt\n",
        "  }\n",
        "}\n",
        "where{\n",
        "  select (count(?g) as ?cnt)\n",
        "  where {\n",
        "    graph ?g {}\n",
        "    FILTER(?g in (:G1, :G2, :main))\n",
        "  }\n",
        "}\n",
        "\"\"\")\n",
        "\n",
        "print(ds.serialize(format=\"trig\"))"
      ],
      "metadata": {
        "id": "xp-ZQXMOB40r",
        "colab": {
          "base_uri": "https://localhost:8080/"
        },
        "outputId": "2e67da10-27a6-476f-b383-6dfab105f0a3"
      },
      "execution_count": null,
      "outputs": [
        {
          "output_type": "stream",
          "name": "stdout",
          "text": [
            "@prefix : <http://example.org/> .\n",
            "@prefix xsd: <http://www.w3.org/2001/XMLSchema#> .\n",
            "\n",
            ":main {\n",
            "    :G1 :author :Mary ;\n",
            "        :knowsCount 3 .\n",
            "\n",
            "    :G2 :author :Peter ;\n",
            "        :knowsCount 2 .\n",
            "\n",
            "    :ds :graphCount 3 .\n",
            "}\n",
            "\n",
            ":G1 {\n",
            "    :Mary :knows :John,\n",
            "            :Mary,\n",
            "            :Peter .\n",
            "}\n",
            "\n",
            ":G2 {\n",
            "    :John :knows :Mary .\n",
            "\n",
            "    :Peter :knows :Mary .\n",
            "}\n",
            "\n",
            "\n"
          ]
        }
      ]
    },
    {
      "cell_type": "markdown",
      "source": [
        "## Task 7"
      ],
      "metadata": {
        "id": "xYGjIpyYCeyy"
      }
    },
    {
      "cell_type": "code",
      "source": [
        "ds.update(\"\"\"\n",
        "delete{ graph :main{?g ?p ?o}}\n",
        "insert{graph ?g{\n",
        "?g ?p ?o.\n",
        "}}\n",
        "where {\n",
        "Select ?g ?p ?o\n",
        "WHERE {\n",
        "GRAPH ?g {}\n",
        "GRAPH :main { ?g ?p ?o }\n",
        "}\n",
        "}\n",
        "\"\"\")\n",
        "\n",
        "print(ds.serialize(format=\"trig\"))"
      ],
      "metadata": {
        "id": "JWVWMvu9Cf4_",
        "colab": {
          "base_uri": "https://localhost:8080/"
        },
        "outputId": "2053741d-d381-4fa0-d0fc-5a12aa31e6ee"
      },
      "execution_count": null,
      "outputs": [
        {
          "output_type": "stream",
          "name": "stdout",
          "text": [
            "@prefix : <http://example.org/> .\n",
            "@prefix xsd: <http://www.w3.org/2001/XMLSchema#> .\n",
            "\n",
            ":main {\n",
            "    :ds :graphCount 4 .\n",
            "}\n",
            "\n",
            ":G1 {\n",
            "    :G1 :author :Mary ;\n",
            "        :knowsCount 3 .\n",
            "\n",
            "    :Mary :knows :John,\n",
            "            :Mary,\n",
            "            :Peter .\n",
            "}\n",
            "\n",
            ":G2 {\n",
            "    :G2 :author :Peter ;\n",
            "        :knowsCount 2 .\n",
            "\n",
            "    :John :knows :Mary .\n",
            "\n",
            "    :Peter :knows :Mary .\n",
            "}\n",
            "\n",
            "\n"
          ]
        }
      ]
    },
    {
      "cell_type": "markdown",
      "source": [
        "## Task 8"
      ],
      "metadata": {
        "id": "xkGyWSxipiX1"
      }
    },
    {
      "cell_type": "code",
      "source": [
        "ds.update(\"\"\"\n",
        "DELETE { GRAPH ?g {\n",
        "?g :knowsCount ?c\n",
        "} }\n",
        "INSERT { \n",
        "GRAPH ?g {\n",
        "?aut :knows :Susi .\n",
        "} \n",
        "}\n",
        "WHERE {\n",
        "Select ?g ?aut ?c\n",
        "WHERE {\n",
        "GRAPH ?g { ?g :author ?aut . ?g :knowsCount ?c}\n",
        "}\n",
        "};\n",
        "INSERT { GRAPH ?g2 { ?g2 :knowsCount ?xcount } }\n",
        "WHERE {\n",
        "Select ?g2 (count(?x) as ?xcount)\n",
        "WHERE {\n",
        "GRAPH ?g2\n",
        "{\n",
        "?x :knows ?y\n",
        "} }\n",
        "GROUP BY ?g2\n",
        "}\n",
        "\"\"\")\n",
        "\n",
        "print(ds.serialize(format=\"trig\"))"
      ],
      "metadata": {
        "id": "eWHkKQcqpkJi",
        "colab": {
          "base_uri": "https://localhost:8080/"
        },
        "outputId": "b22d8c78-7434-4500-f870-9d8b9069f478"
      },
      "execution_count": null,
      "outputs": [
        {
          "output_type": "stream",
          "name": "stdout",
          "text": [
            "@prefix : <http://example.org/> .\n",
            "@prefix xsd: <http://www.w3.org/2001/XMLSchema#> .\n",
            "\n",
            ":main {\n",
            "    :ds :graphCount 4 .\n",
            "}\n",
            "\n",
            ":G1 {\n",
            "    :G1 :author :Mary ;\n",
            "        :knowsCount 4 .\n",
            "\n",
            "    :Mary :knows :John,\n",
            "            :Mary,\n",
            "            :Peter,\n",
            "            :Susi .\n",
            "}\n",
            "\n",
            ":G2 {\n",
            "    :G2 :author :Peter ;\n",
            "        :knowsCount 3 .\n",
            "\n",
            "    :John :knows :Mary .\n",
            "\n",
            "    :Peter :knows :Mary,\n",
            "            :Susi .\n",
            "}\n",
            "\n",
            "\n"
          ]
        }
      ]
    }
  ]
}