{
  "nbformat": 4,
  "nbformat_minor": 0,
  "metadata": {
    "colab": {
      "provenance": []
    },
    "kernelspec": {
      "name": "python3",
      "display_name": "Python 3"
    },
    "language_info": {
      "name": "python"
    }
  },
  "cells": [
    {
      "cell_type": "markdown",
      "source": [
        "#UE03 - SPARQL Query\n",
        "\n",
        "Please complete the 10 tasks in the `2. SPARQL` sheet of `SemAI.jar` first, and then transfer the task descriptions and your solutiosn in executable form to this notebook."
      ],
      "metadata": {
        "id": "PUyG1F1sVDEW"
      }
    },
    {
      "cell_type": "markdown",
      "source": [
        "## Preparation\n",
        "\n",
        "Reuse imports and functions from https://github.com/jku-win-dke/SemAI/blob/main/V02_SPARQL.ipynb and load the solar system graph. Query the solar system graph to check that everything works fine. "
      ],
      "metadata": {
        "id": "Ky2HcjBHxqLp"
      }
    },
    {
      "cell_type": "code",
      "execution_count": null,
      "metadata": {
        "id": "RgRHkpEsLmx_"
      },
      "outputs": [],
      "source": [
        "# Install required packages\n",
        "!pip install -q rdflib\n",
        "\n",
        "# Imports\n",
        "import pandas as pd\n",
        "from rdflib import Graph, Literal, RDF, URIRef, BNode, Namespace\n",
        "from rdflib.namespace import FOAF , XSD , RDFS, NamespaceManager \n",
        "\n",
        "# Convenient Functions\n",
        "def sparql_select(graph,query,use_prefixes=True):\n",
        "  results = graph.query(query)          # execute the query against the graph, resulting in a rdflib.plugins.sparql.processor.SPARQLResult\n",
        "  rows = []                             # a list of dictionaries, as intermediate format to construct the pandas DataFrame\n",
        "  for result in results:                # iterate over the result set of the query, a result is an instance of rdflib.query.ResultRow\n",
        "    row = {}                            #     create a dictionary to hold a single row of the result\n",
        "    for var in results.vars:            #     iterate over the variables of the SPARQLResult to add a dictionary entry for each variable\n",
        "      if (isinstance(result[var],URIRef) and use_prefixes):\n",
        "        row[var] = result[var].n3(graph.namespace_manager)   # use namespace prefixes to shorten URIs\n",
        "      else:\n",
        "        row[var] = result[var]                  \n",
        "    rows.append(row)                    #     add the dictionary (row) to the list \n",
        "  return pd.DataFrame(rows,columns=results.vars)        \n",
        "                                        # return a pandas DataFrame constructed from the list of dictionaries, with the variables from the result set as columns      \n",
        "\n",
        "def sparql_construct(graph, query):\n",
        "  result_graph = Graph(namespace_manager = g.namespace_manager)  # create a Graph object that reuses the namespace prefixes of the original graph\n",
        "  result_graph += graph.query(query)                             # execute the construct query against the original graph and add the resulting graph to the new one\n",
        "  return result_graph\n",
        "\n",
        "def sparql_ask(graph, query):\n",
        "  return bool(graph.query(query))      # an ASK query has a boolean result, which should be returned as such\n",
        "\n",
        "# Load solar system graph\n",
        "g = Graph()\n",
        "g.parse(\"https://raw.githubusercontent.com/jku-win-dke/SemAI/main/data/solarsystem.ttl\",format=\"turtle\")\n",
        "\n",
        "# Query solar system graph (to check that everything works fine)\n",
        "df = sparql_select(g,\"\"\"\n",
        "  SELECT ?planet ?apoapsis ?apoapsis_uom\n",
        "  WHERE { \n",
        "    ?planet rdf:type dbo:Planet . \n",
        "    OPTIONAL { ?planet v:apoapsis [rdf:value ?apoapsis ; v:uom ?apoapsis_uom ].  }\n",
        "  }\n",
        "\"\"\")\n",
        "df"
      ]
    },
    {
      "cell_type": "markdown",
      "source": [
        "\n",
        "## Task 1 (1 pt)\n",
        "\n",
        "*TODO: add task description*"
      ],
      "metadata": {
        "id": "yRBr_COBQPQE"
      }
    },
    {
      "cell_type": "code",
      "source": [
        "# TODO: include and execute the query, display the result\n",
        "result_task1 = \"\"\"\n",
        "SELECT *\n",
        "WHERE { ?d a dbo:DwarfPlanet.\n",
        "OPTIONAL { ?d skos:exactMatch ?match. } }\n",
        "ORDER BY ?d\n",
        "\"\"\"\n",
        "df = sparql_select(g, result_task1)\n",
        "df"
      ],
      "metadata": {
        "id": "0PE_ll0-MCdk"
      },
      "execution_count": null,
      "outputs": []
    },
    {
      "cell_type": "markdown",
      "source": [
        "## Task 2 (1 pt)\n",
        "\n",
        "*TODO: add task description*"
      ],
      "metadata": {
        "id": "YVzpX0ExF6wO"
      }
    },
    {
      "cell_type": "code",
      "source": [
        "# TODO: include and execute the query, display the result\n",
        "result_task2 = \"\"\"\n",
        "SELECT *\n",
        "WHERE { ?star a dbo:Star.\n",
        "OPTIONAL { ?star skos:exactMatch ?match. }\n",
        "OPTIONAL { ?star v:mass[rdf:value ?massVal; v:uom ?massUoM]. }\n",
        "}\n",
        "ORDER BY ?star\n",
        "\"\"\"\n",
        "df = sparql_select(g, result_task2)\n",
        "df"
      ],
      "metadata": {
        "id": "j82TeG59F6wP"
      },
      "execution_count": null,
      "outputs": []
    },
    {
      "cell_type": "markdown",
      "source": [
        "## Task 3 (1 pt)\n",
        "\n",
        "*TODO: add task description*"
      ],
      "metadata": {
        "id": "3i2B2tLRF7T3"
      }
    },
    {
      "cell_type": "code",
      "source": [
        "# TODO: include and execute the query, display the result\n",
        "result_task3 = \"\"\"\n",
        "SELECT ?planet ?assertedNo (count(?moon) as ?noOfDescribedMoons)\n",
        "WHERE {\n",
        "?planet a dbo:Planet;  v:nrOfMoons ?assertedNo.\n",
        "OPTIONAL {?moon v:orbits ?planet}\n",
        "} group by ?planet ?assertedNo\n",
        "order by ?planet\n",
        "\"\"\"\n",
        "df = sparql_select(g, result_task3)\n",
        "df"
      ],
      "metadata": {
        "id": "uZVUV577F7T4"
      },
      "execution_count": null,
      "outputs": []
    },
    {
      "cell_type": "markdown",
      "source": [
        "## Task 4 (1 pt)\n",
        "\n",
        "*TODO: add task description*"
      ],
      "metadata": {
        "id": "OEx2sM7nF7n2"
      }
    },
    {
      "cell_type": "code",
      "source": [
        "# TODO: include and execute the query, display the result\n",
        "result_task4 = \"\"\"\n",
        "SELECT (avg(?nr) AS ?avgNoOfDescribedMoons)\n",
        "{\n",
        "SELECT ?planet (count(?moon) as ?nr)\n",
        "WHERE{\n",
        "?planet a dbo:Planet\n",
        "OPTIONAL { ?moon v:orbits ?planet }\n",
        "} group by ?planet\n",
        "}\n",
        "\"\"\"\n",
        "df = sparql_select(g, result_task4)\n",
        "df"
      ],
      "metadata": {
        "id": "1kk9dlZAF7n3"
      },
      "execution_count": null,
      "outputs": []
    },
    {
      "cell_type": "markdown",
      "source": [
        "## Task 5 (1 pt)\n",
        "\n",
        "*TODO: add task description*"
      ],
      "metadata": {
        "id": "1nGGo4_XF70X"
      }
    },
    {
      "cell_type": "code",
      "source": [
        "# TODO: include and execute the query, display the result\n",
        "result_task5 = \"\"\"\n",
        "SELECT ?class (count(?type) as ?noOfInstances)\n",
        "WHERE {\n",
        "?type a ?class.\n",
        "} group by ?class\n",
        "having (count(?type) > 2)\n",
        "order by ?class\n",
        "\"\"\"\n",
        "df = sparql_select(g, result_task5)\n",
        "df"
      ],
      "metadata": {
        "id": "AxB2DcY-F70Y"
      },
      "execution_count": null,
      "outputs": []
    },
    {
      "cell_type": "markdown",
      "source": [
        "## Task 6 (1 pt)\n",
        "\n",
        "*TODO: add task description*"
      ],
      "metadata": {
        "id": "nB_ZOGV9F7_v"
      }
    },
    {
      "cell_type": "code",
      "source": [
        "# TODO: include and execute the query, display the result\n",
        "result_task6 = \"\"\"\n",
        "select ?class ?prop (count(distinct ?help) as ?noOfInstance)\n",
        "where {\n",
        "?help a ?class.\n",
        "?help ?prop ?o.\n",
        "} group by ?class ?prop\n",
        "having(count(distinct ?help) >= 7)\n",
        "order by ?class ?prop\n",
        "\"\"\"\n",
        "df = sparql_select(g, result_task6)\n",
        "df"
      ],
      "metadata": {
        "id": "x4uW2B4dF7_w"
      },
      "execution_count": null,
      "outputs": []
    },
    {
      "cell_type": "markdown",
      "source": [
        "## Task 7 (1 pt)\n",
        "\n",
        "*TODO: add task description*"
      ],
      "metadata": {
        "id": "nXPqBOZjF8LH"
      }
    },
    {
      "cell_type": "code",
      "source": [
        "# TODO: include and execute the query, display the result\n",
        "result_task7 = \"\"\"\n",
        "SELECT ?x ?y\n",
        "where {\n",
        "{?x a dbo:Star}\n",
        "union\n",
        "{?x a dbo:Satellite ; v:orbits ?y}\n",
        "}\n",
        "order by ?x\n",
        "\"\"\"\n",
        "df = sparql_select(g, result_task7)\n",
        "df"
      ],
      "metadata": {
        "id": "rDqaQlDhF8LI"
      },
      "execution_count": null,
      "outputs": []
    },
    {
      "cell_type": "markdown",
      "source": [
        "## Task 8 (1 pt)\n",
        "\n",
        "*TODO: add task description*"
      ],
      "metadata": {
        "id": "Us6tYyDHF8V_"
      }
    },
    {
      "cell_type": "code",
      "source": [
        "# TODO: include and execute the query, display the result\n",
        "result_task8 = \"\"\"\n",
        "CONSTRUCT {\n",
        "  ?x rdf:type v:Himmelskoerper.\n",
        "  ?x v:wirdUmrundetVon ?y. \n",
        "  ?z v:wirdUmrundetVon ?t.   \n",
        "}\n",
        "WHERE { \n",
        "  {?x a dbo:Planet} UNION {?x a dbo:Satellite}.\n",
        "  OPTIONAL {?y v:orbits ?x}.\n",
        "  OPTIONAL {?z skos:exactMatch dbr:Sun}.\n",
        "  OPTIONAL {?t a dbo:Planet; v:orbits ?z}.  \n",
        "}\n",
        "\"\"\"\n",
        "df = sparql_construct(g, result_task8)\n",
        "df"
      ],
      "metadata": {
        "id": "Mij855L3F8V_"
      },
      "execution_count": null,
      "outputs": []
    },
    {
      "cell_type": "markdown",
      "source": [
        "## Task 9 (1 pt)\n",
        "\n",
        "*TODO: add task description*"
      ],
      "metadata": {
        "id": "IPLpuY8iF8gv"
      }
    },
    {
      "cell_type": "code",
      "source": [
        "# TODO: include and execute the query, display the result\n",
        "result_task9 = \"\"\"\n",
        "ask{\n",
        "?s a dbo:Star ;\n",
        "v:mass[rdf:value ?massValue; v:uom ?UoM]\n",
        "FILTER(?massValue > 1 && ?UoM in (v:SolarMass))\n",
        "}\n",
        "\"\"\"\n",
        "df = sparql_ask(g, result_task9)\n",
        "df"
      ],
      "metadata": {
        "id": "SaYpWyW0F8gw"
      },
      "execution_count": null,
      "outputs": []
    },
    {
      "cell_type": "markdown",
      "source": [
        "## Task 10 (1 pt)\n",
        "\n",
        "*TODO: add task description*"
      ],
      "metadata": {
        "id": "vszUEtolF8qv"
      }
    },
    {
      "cell_type": "code",
      "source": [
        "# TODO: include and execute the query, display the result\n",
        "result_task10 = \"\"\"\n",
        "describe ?x\n",
        "where {\n",
        "?x a ?y ;\n",
        "v:radius [rdf:value ?radiusValue; v:uom ?uom]\n",
        "FILTER(?radiusValue >=20000 && ?radiusValue<=30000 && ?uom in (unit:KM))\n",
        "}\n",
        "\"\"\"\n",
        "df = sparql_construct(g, result_task10)\n",
        "df"
      ],
      "metadata": {
        "id": "t8gZYqQNF8qv"
      },
      "execution_count": null,
      "outputs": []
    }
  ]
}